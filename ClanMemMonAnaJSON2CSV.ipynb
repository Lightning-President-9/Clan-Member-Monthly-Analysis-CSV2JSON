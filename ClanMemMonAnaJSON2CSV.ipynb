{
  "nbformat": 4,
  "nbformat_minor": 0,
  "metadata": {
    "colab": {
      "provenance": []
    },
    "kernelspec": {
      "name": "python3",
      "display_name": "Python 3"
    },
    "language_info": {
      "name": "python"
    }
  },
  "cells": [
    {
      "cell_type": "code",
      "execution_count": null,
      "metadata": {
        "colab": {
          "base_uri": "https://localhost:8080/"
        },
        "id": "klw0CkVRj-Sm",
        "outputId": "c7a30834-3d5d-4cfd-aec2-b36ab2f7dfd8"
      },
      "outputs": [
        {
          "output_type": "stream",
          "name": "stdout",
          "text": [
            "CSV data successfully converted to JSON with clanscore and saved to data_DEC-JAN_2025.json\n"
          ]
        }
      ],
      "source": [
        "import csv\n",
        "import json\n",
        "import requests\n",
        "\n",
        "def csv_to_json(url, json_file_path):\n",
        "    try:\n",
        "        # Step 1: Fetch CSV data from the URL\n",
        "        response = requests.get(url)\n",
        "        response.raise_for_status()  # Raise an exception for HTTP errors\n",
        "        csv_data = response.text\n",
        "\n",
        "        # Step 2: Parse the CSV data\n",
        "        csv_reader = csv.DictReader(csv_data.splitlines())\n",
        "        data_list = []\n",
        "\n",
        "        # Step 3: Process rows and calculate clanscore\n",
        "        for row in csv_reader:\n",
        "            clanscore = 0\n",
        "            # Add all numeric values in the row to clanscore\n",
        "            for value in row.values():\n",
        "                try:\n",
        "                    # Attempt to convert the value to a int and add it to clanscore\n",
        "                    clanscore += int(value)\n",
        "                except ValueError:\n",
        "                    # Skip non-numeric values (e.g., text fields)\n",
        "                    continue\n",
        "            # Convert clanscore to string and add it as a new column\n",
        "            row['clanscore'] = str(clanscore)\n",
        "            data_list.append(row)\n",
        "\n",
        "        # Step 4: Save data as JSON with UTF-8 encoding and ensure ASCII is False to handle special characters\n",
        "        with open(json_file_path, 'w', encoding='utf-8') as json_file:\n",
        "            json.dump(data_list, json_file, indent=4, ensure_ascii=False)\n",
        "\n",
        "        print(f\"CSV data successfully converted to JSON with clanscore and saved to {json_file_path}\")\n",
        "    except requests.exceptions.RequestException as e:\n",
        "        print(f\"Error fetching CSV: {e}\")\n",
        "    except Exception as e:\n",
        "        print(f\"Error processing data: {e}\")\n",
        "\n",
        "csv_url = \"https://raw.githubusercontent.com/Lightning-President-9/ClanDataRepo/refs/heads/main/Clan%20Members/Monthly%20Analysis/data_DEC-JAN_2025.csv\"\n",
        "output_json_path = \"data_DEC-JAN_2025.json\"\n",
        "csv_to_json(csv_url, output_json_path)"
      ]
    }
  ]
}